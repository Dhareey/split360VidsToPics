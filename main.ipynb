{
 "cells": [
  {
   "cell_type": "code",
   "execution_count": 3,
   "metadata": {},
   "outputs": [],
   "source": [
    "import geopandas as gpd\n",
    "import numpy as np\n",
    "import  pandas as pd\n",
    "\n",
    "\n",
    "def get_length_in_meters(filepath):\n",
    "        gdf= gpd.read_file(filepath)\n",
    "        if not gdf.empty and ('LineString' in gdf.geom_type.unique() or 'MultiLineString' in gdf.geom_type.unique()):\n",
    "            # Set CRS to WGS84 if not already set\n",
    "            if gdf.crs is None:\n",
    "                gdf.crs = 'epsg:4326'  # WGS84\n",
    "\n",
    "            # Reproject CRS to EPSG 32361\n",
    "            gdf = gdf.to_crs(epsg=32631)\n",
    "\n",
    "            # Calculate the length of all LineString and MultiLineString geometries and sum them up\n",
    "            total_length = gdf.geometry.length.sum()\n",
    "\n",
    "            return total_length"
   ]
  },
  {
   "cell_type": "code",
   "execution_count": 4,
   "metadata": {},
   "outputs": [
    {
     "data": {
      "text/plain": [
       "5809.646180704642"
      ]
     },
     "execution_count": 4,
     "metadata": {},
     "output_type": "execute_result"
    }
   ],
   "source": [
    "get_length_in_meters(\"D:/Google Street View/Verification/waterways/output/VID_20231218_114549.geojson\")"
   ]
  },
  {
   "cell_type": "code",
   "execution_count": 15,
   "metadata": {},
   "outputs": [],
   "source": [
    "import json\n",
    "from shapely.geometry import shape\n",
    "import pyproj\n",
    "from shapely.ops import transform\n",
    "\n",
    "def extract_length_from_geojson(file_path):\n",
    "    with open(file_path, 'r') as f:\n",
    "        geojson_data = json.load(f)\n",
    "\n",
    "    # Convert the GeoJSON geometry to a Shapely geometry object\n",
    "    geom = shape(geojson_data['geometry'])\n",
    "\n",
    "    # Define the source and target CRS\n",
    "    src_crs = 'epsg:4326'  # WGS84\n",
    "    target_crs = 'epsg:32631'  # UTM zone 31N\n",
    "\n",
    "    # Define the transformation function\n",
    "    project = pyproj.Transformer.from_crs(src_crs, target_crs, always_xy=True).transform\n",
    "\n",
    "    # Transform the geometry to the target CRS\n",
    "    geom_transformed = transform(project, geom)\n",
    "\n",
    "    # Calculate the length if it's a LineString or MultiLineString\n",
    "    if geom_transformed.geom_type in ['LineString', 'MultiLineString']:\n",
    "        total_length = geom_transformed.length\n",
    "    else:\n",
    "        total_length = 0\n",
    "\n",
    "    return total_length\n"
   ]
  },
  {
   "cell_type": "code",
   "execution_count": 16,
   "metadata": {},
   "outputs": [
    {
     "data": {
      "text/plain": [
       "5809.646180704642"
      ]
     },
     "execution_count": 16,
     "metadata": {},
     "output_type": "execute_result"
    }
   ],
   "source": [
    "extract_length_from_geojson(\"D:/Google Street View/Verification/waterways/output/VID_20231218_114549.geojson\")"
   ]
  },
  {
   "cell_type": "code",
   "execution_count": 1,
   "metadata": {},
   "outputs": [],
   "source": [
    "testing = {}\n",
    "testing[1] = ['test', 'testing', 'testing2']"
   ]
  },
  {
   "cell_type": "code",
   "execution_count": 2,
   "metadata": {},
   "outputs": [
    {
     "data": {
      "text/plain": [
       "{1: ['test', 'testing', 'testing2']}"
      ]
     },
     "execution_count": 2,
     "metadata": {},
     "output_type": "execute_result"
    }
   ],
   "source": [
    "testing"
   ]
  }
 ],
 "metadata": {
  "kernelspec": {
   "display_name": "GUIenv",
   "language": "python",
   "name": "python3"
  },
  "language_info": {
   "codemirror_mode": {
    "name": "ipython",
    "version": 3
   },
   "file_extension": ".py",
   "mimetype": "text/x-python",
   "name": "python",
   "nbconvert_exporter": "python",
   "pygments_lexer": "ipython3",
   "version": "3.9.7"
  }
 },
 "nbformat": 4,
 "nbformat_minor": 2
}
